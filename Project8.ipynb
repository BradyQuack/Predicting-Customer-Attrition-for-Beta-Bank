{
 "cells": [
  {
   "cell_type": "markdown",
   "metadata": {},
   "source": [
    "# Predicting Customer Attrition for Beta Bank\n",
    "## Overview:\n",
    "This project addresses the critical issue of customer attrition at Beta Bank, where existing clients are gradually leaving, costing the bank significantly more in new customer acquisition than retaining current customers. The primary objective is to develop a predictive model that identifies customers likely to leave the bank, thereby enabling preemptive retention strategies. The model will be evaluated based on its F1 score, with a minimum target of 0.59, and its performance will also be assessed using the AUC-ROC metric to provide a comprehensive understanding of its predictive capability.\n",
    "## Project Setup\n",
    "**Data Preparation:**\n",
    "\n",
    "(1) Load and clean the dataset, ensuring correct handling of data types and missing values.\n",
    "\n",
    "(2) Process categorical features through encoding techniques and scale numerical features appropriately.\n",
    "\n",
    "**Exploratory Data Analysis:**\n",
    "\n",
    "(1) Investigate the distribution of features and identify any anomalies or outliers.\n",
    "\n",
    "(2) Examine class distribution to understand the extent of imbalance between customers who stayed versus those who left.\n",
    "\n",
    "**Baseline Model Training:**\n",
    "\n",
    "(1) Develop an initial model without accounting for class imbalance to establish a performance baseline.\n",
    "\n",
    "(2) Analyze the model’s performance, particularly focusing on the F1 score and AUC-ROC metrics.\n",
    "\n",
    "**Handling Class Imbalance:**\n",
    "\n",
    "(1) Implement at least two techniques to address the imbalance.\n",
    "\n",
    "(2) Tune model parameters using cross-validation on the training set to determine the best configuration.\n",
    "\n",
    "**Model Evaluation and Testing:**\n",
    "\n",
    "(1) Compare the performance of different models trained on both training and validation sets.\n",
    "\n",
    "(2) Select the best-performing model based on the F1 score and corroborate its reliability using the AUC-ROC metric.\n",
    "\n",
    "(3) Perform final testing on the held-out test set to validate the model’s predictive power."
   ]
  },
  {
   "cell_type": "markdown",
   "metadata": {},
   "source": [
    "## Imports and Load Data"
   ]
  },
  {
   "cell_type": "code",
   "execution_count": 1,
   "metadata": {},
   "outputs": [],
   "source": [
    "# Imports\n",
    "import pandas as pd\n",
    "import numpy as np\n",
    "from matplotlib import pyplot as plt \n",
    "from sklearn.preprocessing import OrdinalEncoder\n",
    "from sklearn.model_selection import train_test_split\n",
    "from sklearn.tree import DecisionTreeClassifier\n",
    "from sklearn.linear_model import LogisticRegression\n",
    "from sklearn.ensemble import RandomForestClassifier\n",
    "from sklearn.preprocessing import StandardScaler\n",
    "from sklearn.metrics import accuracy_score\n",
    "from sklearn.metrics import f1_score\n",
    "from sklearn.metrics import roc_auc_score\n",
    "from sklearn.metrics import roc_curve\n",
    "from sklearn.utils import shuffle"
   ]
  },
  {
   "cell_type": "code",
   "execution_count": 2,
   "metadata": {
    "scrolled": false
   },
   "outputs": [
    {
     "name": "stdout",
     "output_type": "stream",
     "text": [
      "<class 'pandas.core.frame.DataFrame'>\n",
      "RangeIndex: 10000 entries, 0 to 9999\n",
      "Data columns (total 14 columns):\n",
      " #   Column           Non-Null Count  Dtype  \n",
      "---  ------           --------------  -----  \n",
      " 0   RowNumber        10000 non-null  int64  \n",
      " 1   CustomerId       10000 non-null  int64  \n",
      " 2   Surname          10000 non-null  object \n",
      " 3   CreditScore      10000 non-null  int64  \n",
      " 4   Geography        10000 non-null  object \n",
      " 5   Gender           10000 non-null  object \n",
      " 6   Age              10000 non-null  int64  \n",
      " 7   Tenure           9091 non-null   float64\n",
      " 8   Balance          10000 non-null  float64\n",
      " 9   NumOfProducts    10000 non-null  int64  \n",
      " 10  HasCrCard        10000 non-null  int64  \n",
      " 11  IsActiveMember   10000 non-null  int64  \n",
      " 12  EstimatedSalary  10000 non-null  float64\n",
      " 13  Exited           10000 non-null  int64  \n",
      "dtypes: float64(3), int64(8), object(3)\n",
      "memory usage: 1.1+ MB\n"
     ]
    }
   ],
   "source": [
    "# Load\n",
    "data = pd.read_csv('/datasets/Churn.csv')\n",
    "data.info()"
   ]
  },
  {
   "cell_type": "code",
   "execution_count": 3,
   "metadata": {},
   "outputs": [
    {
     "data": {
      "text/plain": [
       "0"
      ]
     },
     "execution_count": 3,
     "metadata": {},
     "output_type": "execute_result"
    }
   ],
   "source": [
    "# Duplicates\n",
    "data.duplicated().sum()"
   ]
  },
  {
   "cell_type": "code",
   "execution_count": 4,
   "metadata": {},
   "outputs": [
    {
     "data": {
      "text/plain": [
       "RowNumber            0\n",
       "CustomerId           0\n",
       "Surname              0\n",
       "CreditScore          0\n",
       "Geography            0\n",
       "Gender               0\n",
       "Age                  0\n",
       "Tenure             909\n",
       "Balance              0\n",
       "NumOfProducts        0\n",
       "HasCrCard            0\n",
       "IsActiveMember       0\n",
       "EstimatedSalary      0\n",
       "Exited               0\n",
       "dtype: int64"
      ]
     },
     "execution_count": 4,
     "metadata": {},
     "output_type": "execute_result"
    }
   ],
   "source": [
    "# Missing Values\n",
    "data.isna().sum()"
   ]
  },
  {
   "cell_type": "code",
   "execution_count": 5,
   "metadata": {},
   "outputs": [
    {
     "name": "stdout",
     "output_type": "stream",
     "text": [
      "<class 'pandas.core.frame.DataFrame'>\n",
      "RangeIndex: 10000 entries, 0 to 9999\n",
      "Data columns (total 14 columns):\n",
      " #   Column           Non-Null Count  Dtype  \n",
      "---  ------           --------------  -----  \n",
      " 0   RowNumber        10000 non-null  int64  \n",
      " 1   CustomerId       10000 non-null  int64  \n",
      " 2   Surname          10000 non-null  object \n",
      " 3   CreditScore      10000 non-null  int64  \n",
      " 4   Geography        10000 non-null  object \n",
      " 5   Gender           10000 non-null  object \n",
      " 6   Age              10000 non-null  int64  \n",
      " 7   Tenure           10000 non-null  int64  \n",
      " 8   Balance          10000 non-null  float64\n",
      " 9   NumOfProducts    10000 non-null  int64  \n",
      " 10  HasCrCard        10000 non-null  int64  \n",
      " 11  IsActiveMember   10000 non-null  int64  \n",
      " 12  EstimatedSalary  10000 non-null  float64\n",
      " 13  Exited           10000 non-null  int64  \n",
      "dtypes: float64(2), int64(9), object(3)\n",
      "memory usage: 1.1+ MB\n"
     ]
    }
   ],
   "source": [
    "# adding median to Tenure and changing to int\n",
    "data['Tenure'] = data['Tenure'].fillna(data['Tenure'].median())\n",
    "data['Tenure'] = data['Tenure'].astype(int)\n",
    "data.info()"
   ]
  },
  {
   "cell_type": "code",
   "execution_count": 6,
   "metadata": {},
   "outputs": [],
   "source": [
    "# Gender Female = 0 Male = 1\n",
    "data['Gender'] = pd.get_dummies(data['Gender'], drop_first=True)"
   ]
  },
  {
   "cell_type": "code",
   "execution_count": 7,
   "metadata": {},
   "outputs": [
    {
     "data": {
      "text/plain": [
       "0.0    5014\n",
       "1.0    2509\n",
       "2.0    2477\n",
       "Name: Geography, dtype: int64"
      ]
     },
     "execution_count": 7,
     "metadata": {},
     "output_type": "execute_result"
    }
   ],
   "source": [
    "# Geography France = 0 Germany = 1 Spain = 2\n",
    "encoder = OrdinalEncoder()\n",
    "data['Geography'] = encoder.fit_transform(data[['Geography']])\n",
    "data['Geography'].value_counts()"
   ]
  },
  {
   "cell_type": "markdown",
   "metadata": {},
   "source": [
    "### Summary:\n",
    "The dataset contains 10,000 customer records with 14 attributes. Key numerical features include CreditScore, Age, Balance, NumOfProducts, HasCrCard, IsActiveMember, EstimatedSalary, and Tenure (imputed with its median and converted to integer). Categorical variables have been encoded: Gender is binary (female = 0, male = 1), and Geography is ordinally encoded with France as 0, Germany as 1, and Spain as 2. The target variable, Exited, indicates customer churn, setting the foundation for predictive modeling."
   ]
  },
  {
   "cell_type": "markdown",
   "metadata": {},
   "source": [
    "## Class Balance"
   ]
  },
  {
   "cell_type": "code",
   "execution_count": 8,
   "metadata": {},
   "outputs": [
    {
     "data": {
      "text/plain": [
       "<AxesSubplot:ylabel='Exited'>"
      ]
     },
     "execution_count": 8,
     "metadata": {},
     "output_type": "execute_result"
    },
    {
     "data": {
      "image/png": "[encoded data removed]",
      "text/plain": [
       "<Figure size 640x480 with 1 Axes>"
      ]
     },
     "metadata": {},
     "output_type": "display_data"
    }
   ],
   "source": [
    "# Plot Balance Stayed = 0 Exit = 1\n",
    "data['Exited'].value_counts(normalize=True).plot(kind='pie')"
   ]
  },
  {
   "cell_type": "code",
   "execution_count": 9,
   "metadata": {
    "scrolled": true
   },
   "outputs": [
    {
     "name": "stdout",
     "output_type": "stream",
     "text": [
      "0    0.7963\n",
      "1    0.2037\n",
      "Name: Exited, dtype: float64\n"
     ]
    }
   ],
   "source": [
    "print(data['Exited'].value_counts(normalize=True))"
   ]
  },
  {
   "cell_type": "markdown",
   "metadata": {},
   "source": [
    "### Summary:\n",
    "The target variable exhibits a clear class imbalance, with about 79.6% of customers staying (Exited = 0) and roughly 20.4% exiting (Exited = 1). This distribution, visualized with a pie chart, indicates that the majority class significantly outweighs the minority class, which is an important factor to address in modeling to ensure effective detection of the exiting customers."
   ]
  },
  {
   "cell_type": "markdown",
   "metadata": {},
   "source": [
    "## Train Test Split"
   ]
  },
  {
   "cell_type": "code",
   "execution_count": 10,
   "metadata": {},
   "outputs": [
    {
     "name": "stdout",
     "output_type": "stream",
     "text": [
      "(6000, 10)\n",
      "(6000,)\n",
      "(2000, 10)\n",
      "(2000,)\n",
      "(2000, 10)\n",
      "(2000,)\n"
     ]
    }
   ],
   "source": [
    "# Features/Target\n",
    "features = data.drop(columns=['RowNumber', 'CustomerId', 'Surname', 'Exited'], axis=1)\n",
    "target = data['Exited']\n",
    "\n",
    "# 80% Train 20% Test\n",
    "features_train, features_test, target_train, target_test = train_test_split(features, target, test_size=0.2, random_state=12345)\n",
    "\n",
    "# 20% Test 20% Val 60% Train\n",
    "features_train, features_val, target_train, target_val = train_test_split(features_train, target_train, test_size=0.25, random_state=12345)\n",
    "\n",
    "print(features_train.shape)\n",
    "print(target_train.shape)\n",
    "print(features_val.shape)\n",
    "print(target_val.shape)\n",
    "print(features_test.shape)\n",
    "print(target_test.shape)\n",
    "\n",
    "## Thank you! It was actually more difficult to keep track of val so I will make sure to use valid in the future"
   ]
  },
  {
   "cell_type": "code",
   "execution_count": 11,
   "metadata": {},
   "outputs": [
    {
     "name": "stderr",
     "output_type": "stream",
     "text": [
      "/tmp/ipykernel_50/3837678329.py:7: SettingWithCopyWarning: \n",
      "A value is trying to be set on a copy of a slice from a DataFrame.\n",
      "Try using .loc[row_indexer,col_indexer] = value instead\n",
      "\n",
      "See the caveats in the documentation: https://pandas.pydata.org/pandas-docs/stable/user_guide/indexing.html#returning-a-view-versus-a-copy\n",
      "  features_test[numeric] = scaler.transform(features_test[numeric])\n",
      "/opt/conda/envs/python3/lib/python3.9/site-packages/pandas/core/indexing.py:1738: SettingWithCopyWarning: \n",
      "A value is trying to be set on a copy of a slice from a DataFrame.\n",
      "Try using .loc[row_indexer,col_indexer] = value instead\n",
      "\n",
      "See the caveats in the documentation: https://pandas.pydata.org/pandas-docs/stable/user_guide/indexing.html#returning-a-view-versus-a-copy\n",
      "  self._setitem_single_column(loc, value[:, i].tolist(), pi)\n"
     ]
    },
    {
     "data": {
      "text/html": [
       "<div>\n",
       "<style scoped>\n",
       "    .dataframe tbody tr th:only-of-type {\n",
       "        vertical-align: middle;\n",
       "    }\n",
       "\n",
       "    .dataframe tbody tr th {\n",
       "        vertical-align: top;\n",
       "    }\n",
       "\n",
       "    .dataframe thead th {\n",
       "        text-align: right;\n",
       "    }\n",
       "</style>\n",
       "<table border=\"1\" class=\"dataframe\">\n",
       "  <thead>\n",
       "    <tr style=\"text-align: right;\">\n",
       "      <th></th>\n",
       "      <th>CreditScore</th>\n",
       "      <th>Age</th>\n",
       "      <th>Tenure</th>\n",
       "      <th>Balance</th>\n",
       "      <th>NumOfProducts</th>\n",
       "      <th>EstimatedSalary</th>\n",
       "      <th>Geography</th>\n",
       "      <th>Gender</th>\n",
       "      <th>HasCrCard</th>\n",
       "      <th>IsActiveMember</th>\n",
       "    </tr>\n",
       "  </thead>\n",
       "  <tbody>\n",
       "    <tr>\n",
       "      <th>492</th>\n",
       "      <td>-0.134048</td>\n",
       "      <td>-0.078068</td>\n",
       "      <td>-0.369113</td>\n",
       "      <td>0.076163</td>\n",
       "      <td>0.816929</td>\n",
       "      <td>0.331571</td>\n",
       "      <td>-0.905741</td>\n",
       "      <td>-1.103311</td>\n",
       "      <td>-1.550255</td>\n",
       "      <td>0.968496</td>\n",
       "    </tr>\n",
       "    <tr>\n",
       "      <th>6655</th>\n",
       "      <td>-1.010798</td>\n",
       "      <td>0.494555</td>\n",
       "      <td>-0.007415</td>\n",
       "      <td>0.136391</td>\n",
       "      <td>-0.896909</td>\n",
       "      <td>-0.727858</td>\n",
       "      <td>-0.905741</td>\n",
       "      <td>0.906363</td>\n",
       "      <td>0.645055</td>\n",
       "      <td>0.968496</td>\n",
       "    </tr>\n",
       "    <tr>\n",
       "      <th>4287</th>\n",
       "      <td>0.639554</td>\n",
       "      <td>1.353490</td>\n",
       "      <td>-1.454209</td>\n",
       "      <td>0.358435</td>\n",
       "      <td>-0.896909</td>\n",
       "      <td>-0.477006</td>\n",
       "      <td>0.301109</td>\n",
       "      <td>0.906363</td>\n",
       "      <td>0.645055</td>\n",
       "      <td>0.968496</td>\n",
       "    </tr>\n",
       "    <tr>\n",
       "      <th>42</th>\n",
       "      <td>-0.990168</td>\n",
       "      <td>2.116987</td>\n",
       "      <td>-1.092511</td>\n",
       "      <td>0.651725</td>\n",
       "      <td>-0.896909</td>\n",
       "      <td>-0.100232</td>\n",
       "      <td>-0.905741</td>\n",
       "      <td>-1.103311</td>\n",
       "      <td>0.645055</td>\n",
       "      <td>0.968496</td>\n",
       "    </tr>\n",
       "    <tr>\n",
       "      <th>8178</th>\n",
       "      <td>0.567351</td>\n",
       "      <td>0.685430</td>\n",
       "      <td>0.715982</td>\n",
       "      <td>0.813110</td>\n",
       "      <td>0.816929</td>\n",
       "      <td>0.801922</td>\n",
       "      <td>-0.905741</td>\n",
       "      <td>-1.103311</td>\n",
       "      <td>0.645055</td>\n",
       "      <td>0.968496</td>\n",
       "    </tr>\n",
       "    <tr>\n",
       "      <th>...</th>\n",
       "      <td>...</td>\n",
       "      <td>...</td>\n",
       "      <td>...</td>\n",
       "      <td>...</td>\n",
       "      <td>...</td>\n",
       "      <td>...</td>\n",
       "      <td>...</td>\n",
       "      <td>...</td>\n",
       "      <td>...</td>\n",
       "      <td>...</td>\n",
       "    </tr>\n",
       "    <tr>\n",
       "      <th>8819</th>\n",
       "      <td>-0.618839</td>\n",
       "      <td>-0.268942</td>\n",
       "      <td>1.801078</td>\n",
       "      <td>0.744283</td>\n",
       "      <td>-0.896909</td>\n",
       "      <td>0.803658</td>\n",
       "      <td>0.301109</td>\n",
       "      <td>0.906363</td>\n",
       "      <td>-1.550255</td>\n",
       "      <td>0.968496</td>\n",
       "    </tr>\n",
       "    <tr>\n",
       "      <th>1537</th>\n",
       "      <td>1.743227</td>\n",
       "      <td>-1.032439</td>\n",
       "      <td>1.077681</td>\n",
       "      <td>-1.232442</td>\n",
       "      <td>-0.896909</td>\n",
       "      <td>-1.098797</td>\n",
       "      <td>-0.905741</td>\n",
       "      <td>-1.103311</td>\n",
       "      <td>0.645055</td>\n",
       "      <td>0.968496</td>\n",
       "    </tr>\n",
       "    <tr>\n",
       "      <th>1408</th>\n",
       "      <td>0.567351</td>\n",
       "      <td>-0.650691</td>\n",
       "      <td>1.439380</td>\n",
       "      <td>-1.232442</td>\n",
       "      <td>0.816929</td>\n",
       "      <td>-1.202257</td>\n",
       "      <td>-0.905741</td>\n",
       "      <td>0.906363</td>\n",
       "      <td>-1.550255</td>\n",
       "      <td>-1.032529</td>\n",
       "    </tr>\n",
       "    <tr>\n",
       "      <th>7661</th>\n",
       "      <td>-0.412545</td>\n",
       "      <td>0.494555</td>\n",
       "      <td>-1.092511</td>\n",
       "      <td>0.615524</td>\n",
       "      <td>-0.896909</td>\n",
       "      <td>-0.038931</td>\n",
       "      <td>0.301109</td>\n",
       "      <td>0.906363</td>\n",
       "      <td>0.645055</td>\n",
       "      <td>0.968496</td>\n",
       "    </tr>\n",
       "    <tr>\n",
       "      <th>3295</th>\n",
       "      <td>1.052142</td>\n",
       "      <td>-1.891374</td>\n",
       "      <td>1.439380</td>\n",
       "      <td>-1.232442</td>\n",
       "      <td>-0.896909</td>\n",
       "      <td>1.560932</td>\n",
       "      <td>1.507960</td>\n",
       "      <td>-1.103311</td>\n",
       "      <td>0.645055</td>\n",
       "      <td>-1.032529</td>\n",
       "    </tr>\n",
       "  </tbody>\n",
       "</table>\n",
       "<p>6000 rows × 10 columns</p>\n",
       "</div>"
      ],
      "text/plain": [
       "      CreditScore       Age    Tenure   Balance  NumOfProducts  \\\n",
       "492     -0.134048 -0.078068 -0.369113  0.076163       0.816929   \n",
       "6655    -1.010798  0.494555 -0.007415  0.136391      -0.896909   \n",
       "4287     0.639554  1.353490 -1.454209  0.358435      -0.896909   \n",
       "42      -0.990168  2.116987 -1.092511  0.651725      -0.896909   \n",
       "8178     0.567351  0.685430  0.715982  0.813110       0.816929   \n",
       "...           ...       ...       ...       ...            ...   \n",
       "8819    -0.618839 -0.268942  1.801078  0.744283      -0.896909   \n",
       "1537     1.743227 -1.032439  1.077681 -1.232442      -0.896909   \n",
       "1408     0.567351 -0.650691  1.439380 -1.232442       0.816929   \n",
       "7661    -0.412545  0.494555 -1.092511  0.615524      -0.896909   \n",
       "3295     1.052142 -1.891374  1.439380 -1.232442      -0.896909   \n",
       "\n",
       "      EstimatedSalary  Geography    Gender  HasCrCard  IsActiveMember  \n",
       "492          0.331571  -0.905741 -1.103311  -1.550255        0.968496  \n",
       "6655        -0.727858  -0.905741  0.906363   0.645055        0.968496  \n",
       "4287        -0.477006   0.301109  0.906363   0.645055        0.968496  \n",
       "42          -0.100232  -0.905741 -1.103311   0.645055        0.968496  \n",
       "8178         0.801922  -0.905741 -1.103311   0.645055        0.968496  \n",
       "...               ...        ...       ...        ...             ...  \n",
       "8819         0.803658   0.301109  0.906363  -1.550255        0.968496  \n",
       "1537        -1.098797  -0.905741 -1.103311   0.645055        0.968496  \n",
       "1408        -1.202257  -0.905741  0.906363  -1.550255       -1.032529  \n",
       "7661        -0.038931   0.301109  0.906363   0.645055        0.968496  \n",
       "3295         1.560932   1.507960 -1.103311   0.645055       -1.032529  \n",
       "\n",
       "[6000 rows x 10 columns]"
      ]
     },
     "execution_count": 11,
     "metadata": {},
     "output_type": "execute_result"
    }
   ],
   "source": [
    "# Scale\n",
    "scaler = StandardScaler()\n",
    "numeric = ['CreditScore', 'Age','Tenure','Balance','NumOfProducts','EstimatedSalary','Geography','Gender','HasCrCard','IsActiveMember']\n",
    "scaler.fit(features_train[numeric])\n",
    "features_train[numeric] = scaler.transform(features_train[numeric])\n",
    "features_val[numeric] = scaler.transform(features_val[numeric])\n",
    "features_test[numeric] = scaler.transform(features_test[numeric])\n",
    "\n",
    "features_train[numeric]"
   ]
  },
  {
   "cell_type": "code",
   "execution_count": 12,
   "metadata": {
    "scrolled": false
   },
   "outputs": [
    {
     "data": {
      "text/html": [
       "<div>\n",
       "<style scoped>\n",
       "    .dataframe tbody tr th:only-of-type {\n",
       "        vertical-align: middle;\n",
       "    }\n",
       "\n",
       "    .dataframe tbody tr th {\n",
       "        vertical-align: top;\n",
       "    }\n",
       "\n",
       "    .dataframe thead th {\n",
       "        text-align: right;\n",
       "    }\n",
       "</style>\n",
       "<table border=\"1\" class=\"dataframe\">\n",
       "  <thead>\n",
       "    <tr style=\"text-align: right;\">\n",
       "      <th></th>\n",
       "      <th>CreditScore</th>\n",
       "      <th>Age</th>\n",
       "      <th>Tenure</th>\n",
       "      <th>Balance</th>\n",
       "      <th>NumOfProducts</th>\n",
       "      <th>EstimatedSalary</th>\n",
       "      <th>Geography</th>\n",
       "      <th>Gender</th>\n",
       "      <th>HasCrCard</th>\n",
       "      <th>IsActiveMember</th>\n",
       "    </tr>\n",
       "  </thead>\n",
       "  <tbody>\n",
       "    <tr>\n",
       "      <th>2358</th>\n",
       "      <td>0.175393</td>\n",
       "      <td>0.399118</td>\n",
       "      <td>-1.454209</td>\n",
       "      <td>1.385698</td>\n",
       "      <td>-0.896909</td>\n",
       "      <td>-1.466761</td>\n",
       "      <td>-0.905741</td>\n",
       "      <td>0.906363</td>\n",
       "      <td>-1.550255</td>\n",
       "      <td>0.968496</td>\n",
       "    </tr>\n",
       "    <tr>\n",
       "      <th>8463</th>\n",
       "      <td>-1.299609</td>\n",
       "      <td>0.971741</td>\n",
       "      <td>-1.092511</td>\n",
       "      <td>-1.232442</td>\n",
       "      <td>-0.896909</td>\n",
       "      <td>0.254415</td>\n",
       "      <td>1.507960</td>\n",
       "      <td>0.906363</td>\n",
       "      <td>0.645055</td>\n",
       "      <td>-1.032529</td>\n",
       "    </tr>\n",
       "    <tr>\n",
       "      <th>163</th>\n",
       "      <td>0.711757</td>\n",
       "      <td>-0.268942</td>\n",
       "      <td>-1.092511</td>\n",
       "      <td>-1.232442</td>\n",
       "      <td>0.816929</td>\n",
       "      <td>0.122863</td>\n",
       "      <td>1.507960</td>\n",
       "      <td>-1.103311</td>\n",
       "      <td>0.645055</td>\n",
       "      <td>0.968496</td>\n",
       "    </tr>\n",
       "    <tr>\n",
       "      <th>3074</th>\n",
       "      <td>-0.391916</td>\n",
       "      <td>0.494555</td>\n",
       "      <td>0.354284</td>\n",
       "      <td>0.672529</td>\n",
       "      <td>-0.896909</td>\n",
       "      <td>0.585847</td>\n",
       "      <td>0.301109</td>\n",
       "      <td>-1.103311</td>\n",
       "      <td>0.645055</td>\n",
       "      <td>-1.032529</td>\n",
       "    </tr>\n",
       "    <tr>\n",
       "      <th>5989</th>\n",
       "      <td>0.165078</td>\n",
       "      <td>1.353490</td>\n",
       "      <td>1.801078</td>\n",
       "      <td>0.536522</td>\n",
       "      <td>-0.896909</td>\n",
       "      <td>1.462457</td>\n",
       "      <td>-0.905741</td>\n",
       "      <td>-1.103311</td>\n",
       "      <td>-1.550255</td>\n",
       "      <td>-1.032529</td>\n",
       "    </tr>\n",
       "    <tr>\n",
       "      <th>...</th>\n",
       "      <td>...</td>\n",
       "      <td>...</td>\n",
       "      <td>...</td>\n",
       "      <td>...</td>\n",
       "      <td>...</td>\n",
       "      <td>...</td>\n",
       "      <td>...</td>\n",
       "      <td>...</td>\n",
       "      <td>...</td>\n",
       "      <td>...</td>\n",
       "    </tr>\n",
       "    <tr>\n",
       "      <th>207</th>\n",
       "      <td>-0.350657</td>\n",
       "      <td>-0.459816</td>\n",
       "      <td>-0.007415</td>\n",
       "      <td>0.933102</td>\n",
       "      <td>-0.896909</td>\n",
       "      <td>0.905307</td>\n",
       "      <td>-0.905741</td>\n",
       "      <td>0.906363</td>\n",
       "      <td>0.645055</td>\n",
       "      <td>0.968496</td>\n",
       "    </tr>\n",
       "    <tr>\n",
       "      <th>8746</th>\n",
       "      <td>0.082561</td>\n",
       "      <td>-0.459816</td>\n",
       "      <td>1.077681</td>\n",
       "      <td>0.476293</td>\n",
       "      <td>0.816929</td>\n",
       "      <td>1.432571</td>\n",
       "      <td>-0.905741</td>\n",
       "      <td>0.906363</td>\n",
       "      <td>-1.550255</td>\n",
       "      <td>0.968496</td>\n",
       "    </tr>\n",
       "    <tr>\n",
       "      <th>1809</th>\n",
       "      <td>-0.134048</td>\n",
       "      <td>1.067178</td>\n",
       "      <td>0.354284</td>\n",
       "      <td>0.618283</td>\n",
       "      <td>0.816929</td>\n",
       "      <td>-0.813904</td>\n",
       "      <td>-0.905741</td>\n",
       "      <td>-1.103311</td>\n",
       "      <td>0.645055</td>\n",
       "      <td>0.968496</td>\n",
       "    </tr>\n",
       "    <tr>\n",
       "      <th>5919</th>\n",
       "      <td>-0.072160</td>\n",
       "      <td>0.971741</td>\n",
       "      <td>1.077681</td>\n",
       "      <td>-1.232442</td>\n",
       "      <td>0.816929</td>\n",
       "      <td>1.080287</td>\n",
       "      <td>1.507960</td>\n",
       "      <td>0.906363</td>\n",
       "      <td>0.645055</td>\n",
       "      <td>-1.032529</td>\n",
       "    </tr>\n",
       "    <tr>\n",
       "      <th>4995</th>\n",
       "      <td>1.598822</td>\n",
       "      <td>-0.268942</td>\n",
       "      <td>-0.369113</td>\n",
       "      <td>-1.232442</td>\n",
       "      <td>0.816929</td>\n",
       "      <td>0.819245</td>\n",
       "      <td>-0.905741</td>\n",
       "      <td>-1.103311</td>\n",
       "      <td>-1.550255</td>\n",
       "      <td>0.968496</td>\n",
       "    </tr>\n",
       "  </tbody>\n",
       "</table>\n",
       "<p>2000 rows × 10 columns</p>\n",
       "</div>"
      ],
      "text/plain": [
       "      CreditScore       Age    Tenure   Balance  NumOfProducts  \\\n",
       "2358     0.175393  0.399118 -1.454209  1.385698      -0.896909   \n",
       "8463    -1.299609  0.971741 -1.092511 -1.232442      -0.896909   \n",
       "163      0.711757 -0.268942 -1.092511 -1.232442       0.816929   \n",
       "3074    -0.391916  0.494555  0.354284  0.672529      -0.896909   \n",
       "5989     0.165078  1.353490  1.801078  0.536522      -0.896909   \n",
       "...           ...       ...       ...       ...            ...   \n",
       "207     -0.350657 -0.459816 -0.007415  0.933102      -0.896909   \n",
       "8746     0.082561 -0.459816  1.077681  0.476293       0.816929   \n",
       "1809    -0.134048  1.067178  0.354284  0.618283       0.816929   \n",
       "5919    -0.072160  0.971741  1.077681 -1.232442       0.816929   \n",
       "4995     1.598822 -0.268942 -0.369113 -1.232442       0.816929   \n",
       "\n",
       "      EstimatedSalary  Geography    Gender  HasCrCard  IsActiveMember  \n",
       "2358        -1.466761  -0.905741  0.906363  -1.550255        0.968496  \n",
       "8463         0.254415   1.507960  0.906363   0.645055       -1.032529  \n",
       "163          0.122863   1.507960 -1.103311   0.645055        0.968496  \n",
       "3074         0.585847   0.301109 -1.103311   0.645055       -1.032529  \n",
       "5989         1.462457  -0.905741 -1.103311  -1.550255       -1.032529  \n",
       "...               ...        ...       ...        ...             ...  \n",
       "207          0.905307  -0.905741  0.906363   0.645055        0.968496  \n",
       "8746         1.432571  -0.905741  0.906363  -1.550255        0.968496  \n",
       "1809        -0.813904  -0.905741 -1.103311   0.645055        0.968496  \n",
       "5919         1.080287   1.507960  0.906363   0.645055       -1.032529  \n",
       "4995         0.819245  -0.905741 -1.103311  -1.550255        0.968496  \n",
       "\n",
       "[2000 rows x 10 columns]"
      ]
     },
     "execution_count": 12,
     "metadata": {},
     "output_type": "execute_result"
    }
   ],
   "source": [
    "features_val[numeric]"
   ]
  },
  {
   "cell_type": "code",
   "execution_count": 13,
   "metadata": {},
   "outputs": [
    {
     "data": {
      "text/html": [
       "<div>\n",
       "<style scoped>\n",
       "    .dataframe tbody tr th:only-of-type {\n",
       "        vertical-align: middle;\n",
       "    }\n",
       "\n",
       "    .dataframe tbody tr th {\n",
       "        vertical-align: top;\n",
       "    }\n",
       "\n",
       "    .dataframe thead th {\n",
       "        text-align: right;\n",
       "    }\n",
       "</style>\n",
       "<table border=\"1\" class=\"dataframe\">\n",
       "  <thead>\n",
       "    <tr style=\"text-align: right;\">\n",
       "      <th></th>\n",
       "      <th>CreditScore</th>\n",
       "      <th>Age</th>\n",
       "      <th>Tenure</th>\n",
       "      <th>Balance</th>\n",
       "      <th>NumOfProducts</th>\n",
       "      <th>EstimatedSalary</th>\n",
       "      <th>Geography</th>\n",
       "      <th>Gender</th>\n",
       "      <th>HasCrCard</th>\n",
       "      <th>IsActiveMember</th>\n",
       "    </tr>\n",
       "  </thead>\n",
       "  <tbody>\n",
       "    <tr>\n",
       "      <th>7867</th>\n",
       "      <td>-0.123733</td>\n",
       "      <td>0.685430</td>\n",
       "      <td>-0.730812</td>\n",
       "      <td>-1.232442</td>\n",
       "      <td>-0.896909</td>\n",
       "      <td>0.980212</td>\n",
       "      <td>1.507960</td>\n",
       "      <td>-1.103311</td>\n",
       "      <td>0.645055</td>\n",
       "      <td>0.968496</td>\n",
       "    </tr>\n",
       "    <tr>\n",
       "      <th>1402</th>\n",
       "      <td>1.083087</td>\n",
       "      <td>-0.937002</td>\n",
       "      <td>1.077681</td>\n",
       "      <td>0.858518</td>\n",
       "      <td>-0.896909</td>\n",
       "      <td>-0.390486</td>\n",
       "      <td>-0.905741</td>\n",
       "      <td>0.906363</td>\n",
       "      <td>0.645055</td>\n",
       "      <td>-1.032529</td>\n",
       "    </tr>\n",
       "    <tr>\n",
       "      <th>8606</th>\n",
       "      <td>1.598822</td>\n",
       "      <td>0.303681</td>\n",
       "      <td>-0.007415</td>\n",
       "      <td>-1.232442</td>\n",
       "      <td>0.816929</td>\n",
       "      <td>-0.435169</td>\n",
       "      <td>1.507960</td>\n",
       "      <td>0.906363</td>\n",
       "      <td>0.645055</td>\n",
       "      <td>0.968496</td>\n",
       "    </tr>\n",
       "    <tr>\n",
       "      <th>8885</th>\n",
       "      <td>0.165078</td>\n",
       "      <td>0.589993</td>\n",
       "      <td>-0.369113</td>\n",
       "      <td>0.412100</td>\n",
       "      <td>0.816929</td>\n",
       "      <td>1.017079</td>\n",
       "      <td>1.507960</td>\n",
       "      <td>0.906363</td>\n",
       "      <td>0.645055</td>\n",
       "      <td>0.968496</td>\n",
       "    </tr>\n",
       "    <tr>\n",
       "      <th>6494</th>\n",
       "      <td>0.484834</td>\n",
       "      <td>-1.032439</td>\n",
       "      <td>0.715982</td>\n",
       "      <td>-1.232442</td>\n",
       "      <td>0.816929</td>\n",
       "      <td>-1.343558</td>\n",
       "      <td>-0.905741</td>\n",
       "      <td>0.906363</td>\n",
       "      <td>0.645055</td>\n",
       "      <td>0.968496</td>\n",
       "    </tr>\n",
       "    <tr>\n",
       "      <th>...</th>\n",
       "      <td>...</td>\n",
       "      <td>...</td>\n",
       "      <td>...</td>\n",
       "      <td>...</td>\n",
       "      <td>...</td>\n",
       "      <td>...</td>\n",
       "      <td>...</td>\n",
       "      <td>...</td>\n",
       "      <td>...</td>\n",
       "      <td>...</td>\n",
       "    </tr>\n",
       "    <tr>\n",
       "      <th>2563</th>\n",
       "      <td>1.970151</td>\n",
       "      <td>-1.127876</td>\n",
       "      <td>-0.007415</td>\n",
       "      <td>-1.232442</td>\n",
       "      <td>0.816929</td>\n",
       "      <td>-0.564021</td>\n",
       "      <td>-0.905741</td>\n",
       "      <td>-1.103311</td>\n",
       "      <td>0.645055</td>\n",
       "      <td>0.968496</td>\n",
       "    </tr>\n",
       "    <tr>\n",
       "      <th>1167</th>\n",
       "      <td>-1.072686</td>\n",
       "      <td>-0.364379</td>\n",
       "      <td>1.801078</td>\n",
       "      <td>-1.232442</td>\n",
       "      <td>-0.896909</td>\n",
       "      <td>-1.193686</td>\n",
       "      <td>-0.905741</td>\n",
       "      <td>-1.103311</td>\n",
       "      <td>0.645055</td>\n",
       "      <td>0.968496</td>\n",
       "    </tr>\n",
       "    <tr>\n",
       "      <th>1009</th>\n",
       "      <td>-0.020586</td>\n",
       "      <td>3.071359</td>\n",
       "      <td>-1.815908</td>\n",
       "      <td>-1.232442</td>\n",
       "      <td>-0.896909</td>\n",
       "      <td>1.312849</td>\n",
       "      <td>1.507960</td>\n",
       "      <td>0.906363</td>\n",
       "      <td>0.645055</td>\n",
       "      <td>0.968496</td>\n",
       "    </tr>\n",
       "    <tr>\n",
       "      <th>1002</th>\n",
       "      <td>0.753016</td>\n",
       "      <td>0.017370</td>\n",
       "      <td>-1.454209</td>\n",
       "      <td>-0.415981</td>\n",
       "      <td>0.816929</td>\n",
       "      <td>1.463205</td>\n",
       "      <td>0.301109</td>\n",
       "      <td>0.906363</td>\n",
       "      <td>0.645055</td>\n",
       "      <td>0.968496</td>\n",
       "    </tr>\n",
       "    <tr>\n",
       "      <th>694</th>\n",
       "      <td>1.485360</td>\n",
       "      <td>0.589993</td>\n",
       "      <td>-1.092511</td>\n",
       "      <td>0.528341</td>\n",
       "      <td>-0.896909</td>\n",
       "      <td>0.416953</td>\n",
       "      <td>-0.905741</td>\n",
       "      <td>-1.103311</td>\n",
       "      <td>0.645055</td>\n",
       "      <td>0.968496</td>\n",
       "    </tr>\n",
       "  </tbody>\n",
       "</table>\n",
       "<p>2000 rows × 10 columns</p>\n",
       "</div>"
      ],
      "text/plain": [
       "      CreditScore       Age    Tenure   Balance  NumOfProducts  \\\n",
       "7867    -0.123733  0.685430 -0.730812 -1.232442      -0.896909   \n",
       "1402     1.083087 -0.937002  1.077681  0.858518      -0.896909   \n",
       "8606     1.598822  0.303681 -0.007415 -1.232442       0.816929   \n",
       "8885     0.165078  0.589993 -0.369113  0.412100       0.816929   \n",
       "6494     0.484834 -1.032439  0.715982 -1.232442       0.816929   \n",
       "...           ...       ...       ...       ...            ...   \n",
       "2563     1.970151 -1.127876 -0.007415 -1.232442       0.816929   \n",
       "1167    -1.072686 -0.364379  1.801078 -1.232442      -0.896909   \n",
       "1009    -0.020586  3.071359 -1.815908 -1.232442      -0.896909   \n",
       "1002     0.753016  0.017370 -1.454209 -0.415981       0.816929   \n",
       "694      1.485360  0.589993 -1.092511  0.528341      -0.896909   \n",
       "\n",
       "      EstimatedSalary  Geography    Gender  HasCrCard  IsActiveMember  \n",
       "7867         0.980212   1.507960 -1.103311   0.645055        0.968496  \n",
       "1402        -0.390486  -0.905741  0.906363   0.645055       -1.032529  \n",
       "8606        -0.435169   1.507960  0.906363   0.645055        0.968496  \n",
       "8885         1.017079   1.507960  0.906363   0.645055        0.968496  \n",
       "6494        -1.343558  -0.905741  0.906363   0.645055        0.968496  \n",
       "...               ...        ...       ...        ...             ...  \n",
       "2563        -0.564021  -0.905741 -1.103311   0.645055        0.968496  \n",
       "1167        -1.193686  -0.905741 -1.103311   0.645055        0.968496  \n",
       "1009         1.312849   1.507960  0.906363   0.645055        0.968496  \n",
       "1002         1.463205   0.301109  0.906363   0.645055        0.968496  \n",
       "694          0.416953  -0.905741 -1.103311   0.645055        0.968496  \n",
       "\n",
       "[2000 rows x 10 columns]"
      ]
     },
     "execution_count": 13,
     "metadata": {},
     "output_type": "execute_result"
    }
   ],
   "source": [
    "features_test[numeric]"
   ]
  },
  {
   "cell_type": "markdown",
   "metadata": {},
   "source": [
    "### Summary:\n",
    "The data was split into features and target, with features excluding non-predictive columns like RowNumber, CustomerId, and Surname, and the target defined as Exited. The dataset was divided into an 80/20 train-test split, and the training set was further split into 60% training and 20% validation, resulting in 6000 training samples, 2000 validation samples, and 2000 test samples. Next, a standard scaler was applied to all numeric features to ensure they are on a similar scale before training. This preprocessing setup prepares the data for model training and evaluation while maintaining consistency across the splits."
   ]
  },
  {
   "cell_type": "markdown",
   "metadata": {},
   "source": [
    "## Training Baseline Models"
   ]
  },
  {
   "cell_type": "code",
   "execution_count": 14,
   "metadata": {},
   "outputs": [
    {
     "name": "stdout",
     "output_type": "stream",
     "text": [
      "Accuracy Score: 0.8135\n",
      "F1 Score: 0.2729044834307992\n",
      "AUC-ROC Score: 0.7597290814615358\n"
     ]
    }
   ],
   "source": [
    "# Baseline Logistic Model\n",
    "model = LogisticRegression(random_state=12345, solver='liblinear')\n",
    "model.fit(features_train, target_train)\n",
    "predictions_val = model.predict(features_val)\n",
    "\n",
    "print('Accuracy Score:', accuracy_score(target_val, predictions_val))\n",
    "print('F1 Score:', f1_score(target_val, predictions_val))\n",
    "\n",
    "probability_val = model.predict_proba(features_val)\n",
    "probability_val = probability_val[:,1]\n",
    "auc_roc = roc_auc_score(target_val, probability_val)\n",
    "\n",
    "print('AUC-ROC Score:', auc_roc)"
   ]
  },
  {
   "cell_type": "code",
   "execution_count": 15,
   "metadata": {},
   "outputs": [
    {
     "name": "stdout",
     "output_type": "stream",
     "text": [
      "Accuracy Score: 0.8555\n",
      "F1 Score: 0.5025817555938038\n",
      "AUC-ROC Score: 0.8118448179120326\n"
     ]
    }
   ],
   "source": [
    "# Baseline Decision Tree Model\n",
    "model = DecisionTreeClassifier(random_state=12345, max_depth=6)\n",
    "model.fit(features_train, target_train)\n",
    "predictions_val = model.predict(features_val)\n",
    "\n",
    "print('Accuracy Score:', accuracy_score(target_val, predictions_val))\n",
    "print('F1 Score:', f1_score(target_val, predictions_val))\n",
    "\n",
    "probability_val = model.predict_proba(features_val)\n",
    "probability_val = probability_val[:,1]\n",
    "auc_roc = roc_auc_score(target_val, probability_val)\n",
    "\n",
    "print('AUC-ROC Score:', auc_roc)"
   ]
  },
  {
   "cell_type": "code",
   "execution_count": 16,
   "metadata": {},
   "outputs": [
    {
     "data": {
      "image/png": "[encoded data removed]",
      "text/plain": [
       "<Figure size 800x600 with 1 Axes>"
      ]
     },
     "metadata": {},
     "output_type": "display_data"
    }
   ],
   "source": [
    "# Plot ROC Curve\n",
    "fpr, tpr, thresholds = roc_curve(target_val, probability_val)\n",
    "plt.figure(figsize=(8, 6))\n",
    "plt.plot(fpr, tpr)\n",
    "plt.plot([0, 1], [0, 1], linestyle='--')\n",
    "plt.xlim([-0.1,1.0])\n",
    "plt.ylim([-0.1,1.01])\n",
    "plt.xlabel('False Positive Rate')\n",
    "plt.ylabel('True Positive Rate')\n",
    "plt.title('ROC curve')\n",
    "plt.show()"
   ]
  },
  {
   "cell_type": "code",
   "execution_count": 17,
   "metadata": {},
   "outputs": [
    {
     "name": "stdout",
     "output_type": "stream",
     "text": [
      "Accuracy Score: 0.857\n",
      "F1 Score: 0.4964788732394366\n",
      "AUC-ROC Score: 0.8420728033964958\n"
     ]
    }
   ],
   "source": [
    "# Baseline RandomForest\n",
    "model = RandomForestClassifier(random_state=12345, n_estimators=20, max_depth=6)\n",
    "model.fit(features_train, target_train)\n",
    "predictions_val = model.predict(features_val)\n",
    "\n",
    "print('Accuracy Score:', accuracy_score(target_val, predictions_val))\n",
    "print('F1 Score:', f1_score(target_val, predictions_val))\n",
    "\n",
    "probability_val = model.predict_proba(features_val)\n",
    "probability_val = probability_val[:,1]\n",
    "auc_roc = roc_auc_score(target_val, probability_val)\n",
    "\n",
    "print('AUC-ROC Score:', auc_roc)"
   ]
  },
  {
   "cell_type": "markdown",
   "metadata": {},
   "source": [
    "### Summary:\n",
    "The baseline Logistic Regression model achieved an accuracy of 81.35%, but its F1 score was relatively low at 0.27, with an AUC-ROC of 0.76, indicating limited effectiveness in capturing the minority class. In contrast, the Decision Tree model improved overall performance with an accuracy of 85.55%, an F1 score of 0.50, and an AUC-ROC of 0.81, suggesting better balance between precision and recall. The Random Forest model delivered comparable accuracy (85.70%) and F1 score (0.50) while further improving the AUC-ROC to 0.84, making it the strongest performer among the three in terms of distinguishing between classes."
   ]
  },
  {
   "cell_type": "markdown",
   "metadata": {},
   "source": [
    "## Upsampling"
   ]
  },
  {
   "cell_type": "code",
   "execution_count": 18,
   "metadata": {},
   "outputs": [],
   "source": [
    "# Upsample Function\n",
    "def upsample(features, target, repeat):\n",
    "    feature1 = features[target == 1]\n",
    "    feature0 = features[target == 0]\n",
    "    target1 = target[target == 1]\n",
    "    target0 = target[target == 0]\n",
    "    \n",
    "    features_upsampled = pd.concat([feature0] + [feature1] * repeat)\n",
    "    \n",
    "    target_upsampled = pd.concat([target0] + [target1] * repeat)\n",
    "    \n",
    "    features_upsampled, target_upsampled = shuffle(features_upsampled, target_upsampled, random_state=12345)\n",
    "    \n",
    "    return features_upsampled, target_upsampled"
   ]
  },
  {
   "cell_type": "code",
   "execution_count": 19,
   "metadata": {},
   "outputs": [],
   "source": [
    "# Upsample by 3\n",
    "features_upsampled, target_upsampled = upsample(features_train, target_train, 3)"
   ]
  },
  {
   "cell_type": "code",
   "execution_count": 20,
   "metadata": {},
   "outputs": [
    {
     "name": "stdout",
     "output_type": "stream",
     "text": [
      "F1 Score 0.4757894736842105\n",
      "AUC-ROC Score 0.68552213492201\n"
     ]
    }
   ],
   "source": [
    "# LogisticRegression\n",
    "model = LogisticRegression(random_state=12345, solver='liblinear')\n",
    "model.fit(features_upsampled, target_upsampled)\n",
    "predictions_val = model.predict(features_val)\n",
    "\n",
    "print('F1 Score', f1_score(target_val, predictions_val))\n",
    "print('AUC-ROC Score', roc_auc_score(target_val, predictions_val))"
   ]
  },
  {
   "cell_type": "code",
   "execution_count": 21,
   "metadata": {},
   "outputs": [
    {
     "name": "stdout",
     "output_type": "stream",
     "text": [
      "F1 Score 0.5592841163310962\n",
      "AUC-ROC Score 0.7410728335974592\n"
     ]
    }
   ],
   "source": [
    "# DecisionTree\n",
    "model = DecisionTreeClassifier(random_state=12345, max_depth=6)\n",
    "model.fit(features_upsampled, target_upsampled)\n",
    "predictions_val = model.predict(features_val)\n",
    "\n",
    "print('F1 Score', f1_score(target_val, predictions_val))\n",
    "print('AUC-ROC Score', roc_auc_score(target_val, predictions_val))"
   ]
  },
  {
   "cell_type": "code",
   "execution_count": 22,
   "metadata": {},
   "outputs": [
    {
     "name": "stdout",
     "output_type": "stream",
     "text": [
      "F1 Score 0.5768772348033372\n",
      "AUC-ROC Score 0.7454479995040684\n"
     ]
    }
   ],
   "source": [
    "# RandomForest\n",
    "model = RandomForestClassifier(random_state=12345, n_estimators=20, max_depth=6)\n",
    "model.fit(features_upsampled, target_upsampled)\n",
    "predictions_val = model.predict(features_val)\n",
    "\n",
    "print('F1 Score', f1_score(target_val, predictions_val))\n",
    "print('AUC-ROC Score', roc_auc_score(target_val, predictions_val))"
   ]
  },
  {
   "cell_type": "markdown",
   "metadata": {},
   "source": [
    "### Summary:\n",
    "Upsampling the minority class by a factor of three improved F1 scores across models: Logistic Regression reached 0.476, Decision Tree 0.559, and Random Forest 0.577, while AUC-ROC scores were 0.686, 0.741, and 0.745 respectively. This indicates enhanced detection of the minority class, with Random Forest providing the best balance between precision, recall, and overall ranking performance."
   ]
  },
  {
   "cell_type": "markdown",
   "metadata": {},
   "source": [
    "## Downsampling"
   ]
  },
  {
   "cell_type": "code",
   "execution_count": 23,
   "metadata": {},
   "outputs": [],
   "source": [
    "# Downsampling Function\n",
    "def downsample(features,target,fraction):\n",
    "    feature1 = features[target == 1]\n",
    "    feature0 = features[target == 0]\n",
    "    target1 = target[target == 1]\n",
    "    target0 = target[target == 0]\n",
    "    \n",
    "    features_downsampled = pd.concat([feature0.sample(frac=fraction, random_state=12345)] + [feature1])\n",
    "    \n",
    "    target_downsampled = pd.concat([target0.sample(frac=fraction, random_state=12345)] + [target1])\n",
    "    \n",
    "    features_downsampled, target_downsampled = shuffle(features_downsampled, target_downsampled, random_state=12345)\n",
    "    \n",
    "    return features_downsampled, target_downsampled"
   ]
  },
  {
   "cell_type": "code",
   "execution_count": 24,
   "metadata": {},
   "outputs": [],
   "source": [
    "# Downsample by 10%\n",
    "features_downsampled, target_downsampled = downsample(features_train, target_train, .1)"
   ]
  },
  {
   "cell_type": "code",
   "execution_count": 25,
   "metadata": {},
   "outputs": [
    {
     "name": "stdout",
     "output_type": "stream",
     "text": [
      "F1 Score 0.39782016348773835\n",
      "AUC-ROC Score 0.6314504886992762\n"
     ]
    }
   ],
   "source": [
    "# LogisticRegression\n",
    "model = LogisticRegression(random_state=12345, solver='liblinear')\n",
    "model.fit(features_downsampled, target_downsampled)\n",
    "predictions_val = model.predict(features_val)\n",
    "\n",
    "print('F1 Score', f1_score(target_val, predictions_val))\n",
    "print('AUC-ROC Score', roc_auc_score(target_val, predictions_val))"
   ]
  },
  {
   "cell_type": "code",
   "execution_count": 26,
   "metadata": {},
   "outputs": [
    {
     "name": "stdout",
     "output_type": "stream",
     "text": [
      "F1 Score 0.42839352428393523\n",
      "AUC-ROC Score 0.669232688887158\n"
     ]
    }
   ],
   "source": [
    "# DecisionTree\n",
    "model = DecisionTreeClassifier(random_state=12345, max_depth=6)\n",
    "model.fit(features_downsampled, target_downsampled)\n",
    "predictions_val = model.predict(features_val)\n",
    "\n",
    "print('F1 Score', f1_score(target_val, predictions_val))\n",
    "print('AUC-ROC Score', roc_auc_score(target_val, predictions_val))"
   ]
  },
  {
   "cell_type": "code",
   "execution_count": 27,
   "metadata": {},
   "outputs": [
    {
     "name": "stdout",
     "output_type": "stream",
     "text": [
      "F1 Score 0.4400948991696323\n",
      "AUC-ROC Score 0.6872896860530361\n"
     ]
    }
   ],
   "source": [
    "# RandomForest\n",
    "model = RandomForestClassifier(random_state=12345, n_estimators=20, max_depth=6)\n",
    "model.fit(features_downsampled, target_downsampled)\n",
    "predictions_val = model.predict(features_val)\n",
    "\n",
    "print('F1 Score', f1_score(target_val, predictions_val))\n",
    "print('AUC-ROC Score', roc_auc_score(target_val, predictions_val))"
   ]
  },
  {
   "cell_type": "markdown",
   "metadata": {},
   "source": [
    "### Summary:\n",
    "Downsampling the majority class to 10% of its original size resulted in a reduction of model performance. The Logistic Regression model achieved an F1 score of about 0.398 and an AUC-ROC of 0.631, while the Decision Tree and Random Forest models reached F1 scores of approximately 0.428 and 0.440, with AUC-ROC scores of 0.669 and 0.687, respectively. These metrics indicate that reducing the number of majority class samples can impair the models’ ability to effectively distinguish between classes, leading to lower performance compared to other resampling strategies."
   ]
  },
  {
   "cell_type": "markdown",
   "metadata": {},
   "source": [
    "## Final Model"
   ]
  },
  {
   "cell_type": "code",
   "execution_count": 28,
   "metadata": {},
   "outputs": [
    {
     "name": "stdout",
     "output_type": "stream",
     "text": [
      "Accuracy Score: 0.827\n",
      "F1 Score: 0.6197802197802198\n",
      "AUC-ROC Score: 0.7663201180339779\n"
     ]
    }
   ],
   "source": [
    "model = RandomForestClassifier(random_state=12345, n_estimators=20, max_depth=6)\n",
    "model.fit(features_upsampled, target_upsampled)\n",
    "predicted_test = model.predict(features_test)\n",
    "\n",
    "print('Accuracy Score:', accuracy_score(target_test, predicted_test))\n",
    "print('F1 Score:', f1_score(target_test, predicted_test))\n",
    "print('AUC-ROC Score:', roc_auc_score(target_test, predicted_test))"
   ]
  },
  {
   "cell_type": "markdown",
   "metadata": {},
   "source": [
    "### Summary:\n",
    "The final model is a RandomForestClassifier configured with 20 estimators and a maximum depth of 6, trained on the upsampled dataset to better address class imbalance. When evaluated on the test set, it achieved an accuracy of 82.7%, an F1 score of approximately 0.62, and an AUC-ROC of 0.77. These results indicate that the model not only meets but exceeds the project threshold for the F1 score (0.59), demonstrating a strong balance between precision and recall, while also maintaining robust overall classification performance."
   ]
  },
  {
   "cell_type": "markdown",
   "metadata": {},
   "source": [
    "## Conclusion:\n",
    "In this analysis, we developed a predictive model to address customer churn for Beta Bank. The dataset, comprising 10,000 customer records with diverse numerical and categorical attributes, required careful preprocessing, including handling missing values and encoding categorical variables. Our initial evaluation revealed a significant class imbalance which highlighted the need for specialized techniques to improve minority class detection. Through a series of experiments with baseline models, we observed that traditional models struggled with the imbalanced data, prompting the use of resampling strategies. Upsampling the minority class by a factor of three notably improved the F1 scores across models, with the Random Forest classifier achieving the best performance, reaching an F1 score of approximately 0.62 and an AUC-ROC of 0.77. In contrast, downsampling the majority class led to poorer outcomes. Ultimately, the final Random Forest model not only met but exceeded our target performance threshold, providing a robust and balanced solution for predicting customer churn. These results offer the client a valuable tool for identifying at-risk customers and implementing targeted retention strategies, thereby improving overall customer management and reducing attrition costs."
   ]
  }
 ],
 "metadata": {
  "ExecuteTimeLog": [
   {
    "duration": 2134,
    "start_time": "2025-02-13T17:07:59.062Z"
   },
   {
    "duration": 26,
    "start_time": "2025-02-13T17:16:40.459Z"
   },
   {
    "duration": 18,
    "start_time": "2025-02-13T17:17:15.690Z"
   },
   {
    "duration": 5,
    "start_time": "2025-02-13T17:29:54.930Z"
   },
   {
    "duration": 219,
    "start_time": "2025-02-13T17:31:09.274Z"
   },
   {
    "duration": 4,
    "start_time": "2025-02-13T17:31:15.435Z"
   },
   {
    "duration": 11,
    "start_time": "2025-02-13T17:31:24.872Z"
   },
   {
    "duration": 18,
    "start_time": "2025-02-13T17:31:32.090Z"
   },
   {
    "duration": 31,
    "start_time": "2025-02-13T17:33:50.078Z"
   },
   {
    "duration": 15,
    "start_time": "2025-02-13T17:33:55.306Z"
   },
   {
    "duration": 433,
    "start_time": "2025-02-13T17:34:09.015Z"
   },
   {
    "duration": 63,
    "start_time": "2025-02-13T17:34:09.450Z"
   },
   {
    "duration": 16,
    "start_time": "2025-02-13T17:34:09.515Z"
   },
   {
    "duration": 17,
    "start_time": "2025-02-13T17:34:34.387Z"
   },
   {
    "duration": 5,
    "start_time": "2025-02-13T19:25:59.077Z"
   },
   {
    "duration": 6,
    "start_time": "2025-02-13T19:26:33.305Z"
   },
   {
    "duration": 5,
    "start_time": "2025-02-13T19:29:01.829Z"
   },
   {
    "duration": 2570,
    "start_time": "2025-02-14T11:34:36.916Z"
   },
   {
    "duration": 41,
    "start_time": "2025-02-14T11:34:39.488Z"
   },
   {
    "duration": 17,
    "start_time": "2025-02-14T11:34:39.533Z"
   },
   {
    "duration": 4,
    "start_time": "2025-02-14T11:34:39.553Z"
   },
   {
    "duration": 140,
    "start_time": "2025-02-14T11:43:05.536Z"
   },
   {
    "duration": 889,
    "start_time": "2025-02-14T11:44:19.918Z"
   },
   {
    "duration": 22,
    "start_time": "2025-02-14T11:44:20.809Z"
   },
   {
    "duration": 27,
    "start_time": "2025-02-14T11:44:20.833Z"
   },
   {
    "duration": 5,
    "start_time": "2025-02-14T11:44:20.862Z"
   },
   {
    "duration": 204,
    "start_time": "2025-02-14T11:44:20.869Z"
   },
   {
    "duration": 22,
    "start_time": "2025-02-14T11:45:04.857Z"
   },
   {
    "duration": 299,
    "start_time": "2025-02-14T11:45:45.065Z"
   },
   {
    "duration": 62,
    "start_time": "2025-02-14T11:46:52.991Z"
   },
   {
    "duration": 250,
    "start_time": "2025-02-14T11:49:54.171Z"
   },
   {
    "duration": 10,
    "start_time": "2025-02-14T11:52:15.813Z"
   },
   {
    "duration": 7,
    "start_time": "2025-02-14T11:52:59.580Z"
   },
   {
    "duration": 864,
    "start_time": "2025-02-14T11:53:07.090Z"
   },
   {
    "duration": 25,
    "start_time": "2025-02-14T11:53:07.956Z"
   },
   {
    "duration": 9,
    "start_time": "2025-02-14T11:53:07.983Z"
   },
   {
    "duration": 8,
    "start_time": "2025-02-14T11:53:07.993Z"
   },
   {
    "duration": 11,
    "start_time": "2025-02-14T11:53:08.004Z"
   },
   {
    "duration": 29,
    "start_time": "2025-02-14T11:53:08.017Z"
   },
   {
    "duration": 198,
    "start_time": "2025-02-14T11:53:08.047Z"
   },
   {
    "duration": 456,
    "start_time": "2025-02-14T11:53:08.247Z"
   },
   {
    "duration": 11,
    "start_time": "2025-02-14T11:54:56.708Z"
   },
   {
    "duration": 834,
    "start_time": "2025-02-14T11:55:27.395Z"
   },
   {
    "duration": 21,
    "start_time": "2025-02-14T11:55:28.231Z"
   },
   {
    "duration": 9,
    "start_time": "2025-02-14T11:55:28.254Z"
   },
   {
    "duration": 6,
    "start_time": "2025-02-14T11:55:28.266Z"
   },
   {
    "duration": 11,
    "start_time": "2025-02-14T11:55:28.274Z"
   },
   {
    "duration": 4,
    "start_time": "2025-02-14T11:55:28.286Z"
   },
   {
    "duration": 170,
    "start_time": "2025-02-14T11:55:28.292Z"
   },
   {
    "duration": 514,
    "start_time": "2025-02-14T11:55:28.463Z"
   },
   {
    "duration": 4,
    "start_time": "2025-02-14T11:57:41.641Z"
   },
   {
    "duration": 15,
    "start_time": "2025-02-14T11:59:47.531Z"
   },
   {
    "duration": 13,
    "start_time": "2025-02-14T12:00:25.202Z"
   },
   {
    "duration": 9,
    "start_time": "2025-02-14T12:00:55.912Z"
   },
   {
    "duration": 8,
    "start_time": "2025-02-14T12:01:33.005Z"
   },
   {
    "duration": 13,
    "start_time": "2025-02-14T12:08:57.798Z"
   },
   {
    "duration": 84,
    "start_time": "2025-02-14T12:09:03.113Z"
   },
   {
    "duration": 5,
    "start_time": "2025-02-14T12:09:38.536Z"
   },
   {
    "duration": 5,
    "start_time": "2025-02-14T12:09:50.793Z"
   },
   {
    "duration": 22,
    "start_time": "2025-02-14T12:16:01.480Z"
   },
   {
    "duration": 8,
    "start_time": "2025-02-14T12:16:12.151Z"
   },
   {
    "duration": 16,
    "start_time": "2025-02-14T12:19:55.539Z"
   },
   {
    "duration": 40,
    "start_time": "2025-02-14T12:20:02.553Z"
   },
   {
    "duration": 23,
    "start_time": "2025-02-14T12:20:29.560Z"
   },
   {
    "duration": 12,
    "start_time": "2025-02-14T12:20:55.406Z"
   },
   {
    "duration": 11,
    "start_time": "2025-02-14T12:21:13.822Z"
   },
   {
    "duration": 14,
    "start_time": "2025-02-14T12:25:12.027Z"
   },
   {
    "duration": 26,
    "start_time": "2025-02-14T12:29:58.698Z"
   },
   {
    "duration": 867,
    "start_time": "2025-02-14T12:30:16.794Z"
   },
   {
    "duration": 24,
    "start_time": "2025-02-14T12:30:17.663Z"
   },
   {
    "duration": 10,
    "start_time": "2025-02-14T12:30:17.688Z"
   },
   {
    "duration": 7,
    "start_time": "2025-02-14T12:30:17.700Z"
   },
   {
    "duration": 11,
    "start_time": "2025-02-14T12:30:17.708Z"
   },
   {
    "duration": 24,
    "start_time": "2025-02-14T12:30:17.721Z"
   },
   {
    "duration": 8,
    "start_time": "2025-02-14T12:30:17.747Z"
   },
   {
    "duration": 130,
    "start_time": "2025-02-14T12:30:17.757Z"
   },
   {
    "duration": 4,
    "start_time": "2025-02-14T12:30:17.890Z"
   },
   {
    "duration": 8,
    "start_time": "2025-02-14T12:30:17.898Z"
   },
   {
    "duration": 49,
    "start_time": "2025-02-14T12:30:17.907Z"
   },
   {
    "duration": 12,
    "start_time": "2025-02-14T12:30:17.958Z"
   },
   {
    "duration": 11,
    "start_time": "2025-02-14T12:30:17.971Z"
   },
   {
    "duration": 360,
    "start_time": "2025-02-14T12:30:17.984Z"
   },
   {
    "duration": 234,
    "start_time": "2025-02-14T12:30:40.098Z"
   },
   {
    "duration": 24,
    "start_time": "2025-02-14T12:36:38.489Z"
   },
   {
    "duration": 16,
    "start_time": "2025-02-14T12:37:04.249Z"
   },
   {
    "duration": 25,
    "start_time": "2025-02-14T12:39:32.248Z"
   },
   {
    "duration": 19,
    "start_time": "2025-02-14T12:39:44.397Z"
   },
   {
    "duration": 14,
    "start_time": "2025-02-14T12:39:49.362Z"
   },
   {
    "duration": 17,
    "start_time": "2025-02-14T12:39:53.475Z"
   },
   {
    "duration": 22,
    "start_time": "2025-02-14T12:39:57.547Z"
   },
   {
    "duration": 23,
    "start_time": "2025-02-14T12:40:10.574Z"
   },
   {
    "duration": 24,
    "start_time": "2025-02-14T12:40:16.102Z"
   },
   {
    "duration": 27,
    "start_time": "2025-02-14T12:40:20.157Z"
   },
   {
    "duration": 23,
    "start_time": "2025-02-14T12:40:25.671Z"
   },
   {
    "duration": 17,
    "start_time": "2025-02-14T12:41:10.510Z"
   },
   {
    "duration": 113,
    "start_time": "2025-02-14T12:41:16.210Z"
   },
   {
    "duration": 87,
    "start_time": "2025-02-14T12:42:32.734Z"
   },
   {
    "duration": 3,
    "start_time": "2025-02-14T12:53:56.410Z"
   },
   {
    "duration": 7,
    "start_time": "2025-02-14T12:55:02.031Z"
   },
   {
    "duration": 25,
    "start_time": "2025-02-14T12:58:05.121Z"
   },
   {
    "duration": 16,
    "start_time": "2025-02-14T13:01:26.111Z"
   },
   {
    "duration": 102,
    "start_time": "2025-02-14T13:03:37.185Z"
   },
   {
    "duration": 15,
    "start_time": "2025-02-14T13:09:12.230Z"
   },
   {
    "duration": 4,
    "start_time": "2025-02-14T13:09:13.794Z"
   },
   {
    "duration": 6,
    "start_time": "2025-02-14T13:09:15.636Z"
   },
   {
    "duration": 4,
    "start_time": "2025-02-14T13:09:19.323Z"
   },
   {
    "duration": 7,
    "start_time": "2025-02-14T13:09:20.849Z"
   },
   {
    "duration": 14,
    "start_time": "2025-02-14T13:11:21.330Z"
   },
   {
    "duration": 12,
    "start_time": "2025-02-14T13:12:12.472Z"
   },
   {
    "duration": 43,
    "start_time": "2025-02-14T13:13:11.616Z"
   },
   {
    "duration": 907,
    "start_time": "2025-02-14T13:15:55.554Z"
   },
   {
    "duration": 25,
    "start_time": "2025-02-14T13:15:56.463Z"
   },
   {
    "duration": 10,
    "start_time": "2025-02-14T13:15:56.489Z"
   },
   {
    "duration": 6,
    "start_time": "2025-02-14T13:15:56.501Z"
   },
   {
    "duration": 10,
    "start_time": "2025-02-14T13:15:56.509Z"
   },
   {
    "duration": 25,
    "start_time": "2025-02-14T13:15:56.520Z"
   },
   {
    "duration": 9,
    "start_time": "2025-02-14T13:15:56.546Z"
   },
   {
    "duration": 129,
    "start_time": "2025-02-14T13:15:56.556Z"
   },
   {
    "duration": 4,
    "start_time": "2025-02-14T13:15:56.687Z"
   },
   {
    "duration": 9,
    "start_time": "2025-02-14T13:15:56.695Z"
   },
   {
    "duration": 58,
    "start_time": "2025-02-14T13:15:56.705Z"
   },
   {
    "duration": 12,
    "start_time": "2025-02-14T13:15:56.765Z"
   },
   {
    "duration": 12,
    "start_time": "2025-02-14T13:15:56.778Z"
   },
   {
    "duration": 52,
    "start_time": "2025-02-14T13:15:56.791Z"
   },
   {
    "duration": 99,
    "start_time": "2025-02-14T13:15:56.844Z"
   },
   {
    "duration": 122,
    "start_time": "2025-02-14T13:15:56.945Z"
   },
   {
    "duration": 90,
    "start_time": "2025-02-14T13:15:57.069Z"
   },
   {
    "duration": 4,
    "start_time": "2025-02-14T13:15:57.161Z"
   },
   {
    "duration": 7,
    "start_time": "2025-02-14T13:15:57.167Z"
   },
   {
    "duration": 19,
    "start_time": "2025-02-14T13:15:57.175Z"
   },
   {
    "duration": 66,
    "start_time": "2025-02-14T13:15:57.195Z"
   },
   {
    "duration": 181,
    "start_time": "2025-02-14T13:15:57.263Z"
   },
   {
    "duration": 3,
    "start_time": "2025-02-14T13:15:57.446Z"
   },
   {
    "duration": 6,
    "start_time": "2025-02-14T13:15:57.451Z"
   },
   {
    "duration": 11,
    "start_time": "2025-02-14T13:15:57.459Z"
   },
   {
    "duration": 72,
    "start_time": "2025-02-14T13:15:57.472Z"
   },
   {
    "duration": 119,
    "start_time": "2025-02-14T13:15:57.546Z"
   },
   {
    "duration": 104,
    "start_time": "2025-02-14T13:31:34.416Z"
   },
   {
    "duration": 854,
    "start_time": "2025-02-14T13:44:23.385Z"
   },
   {
    "duration": 23,
    "start_time": "2025-02-14T13:44:24.241Z"
   },
   {
    "duration": 9,
    "start_time": "2025-02-14T13:44:24.266Z"
   },
   {
    "duration": 7,
    "start_time": "2025-02-14T13:44:24.277Z"
   },
   {
    "duration": 11,
    "start_time": "2025-02-14T13:44:24.285Z"
   },
   {
    "duration": 5,
    "start_time": "2025-02-14T13:44:24.297Z"
   },
   {
    "duration": 8,
    "start_time": "2025-02-14T13:44:24.304Z"
   },
   {
    "duration": 124,
    "start_time": "2025-02-14T13:44:24.342Z"
   },
   {
    "duration": 5,
    "start_time": "2025-02-14T13:44:24.467Z"
   },
   {
    "duration": 8,
    "start_time": "2025-02-14T13:44:24.475Z"
   },
   {
    "duration": 35,
    "start_time": "2025-02-14T13:44:24.484Z"
   },
   {
    "duration": 12,
    "start_time": "2025-02-14T13:44:24.542Z"
   },
   {
    "duration": 12,
    "start_time": "2025-02-14T13:44:24.555Z"
   },
   {
    "duration": 19,
    "start_time": "2025-02-14T13:44:24.568Z"
   },
   {
    "duration": 73,
    "start_time": "2025-02-14T13:44:24.589Z"
   },
   {
    "duration": 190,
    "start_time": "2025-02-14T13:44:24.663Z"
   },
   {
    "duration": 98,
    "start_time": "2025-02-14T13:44:24.855Z"
   },
   {
    "duration": 3,
    "start_time": "2025-02-14T13:44:24.955Z"
   },
   {
    "duration": 7,
    "start_time": "2025-02-14T13:44:24.960Z"
   },
   {
    "duration": 15,
    "start_time": "2025-02-14T13:44:24.968Z"
   },
   {
    "duration": 155,
    "start_time": "2025-02-14T13:44:24.987Z"
   },
   {
    "duration": 114,
    "start_time": "2025-02-14T13:44:25.145Z"
   },
   {
    "duration": 4,
    "start_time": "2025-02-14T13:44:25.261Z"
   },
   {
    "duration": 6,
    "start_time": "2025-02-14T13:44:25.267Z"
   },
   {
    "duration": 11,
    "start_time": "2025-02-14T13:44:25.274Z"
   },
   {
    "duration": 64,
    "start_time": "2025-02-14T13:44:25.287Z"
   },
   {
    "duration": 119,
    "start_time": "2025-02-14T13:44:25.354Z"
   },
   {
    "duration": 110,
    "start_time": "2025-02-14T13:44:25.477Z"
   },
   {
    "duration": 3029,
    "start_time": "2025-02-14T15:58:25.185Z"
   },
   {
    "duration": 41,
    "start_time": "2025-02-14T15:58:28.216Z"
   },
   {
    "duration": 14,
    "start_time": "2025-02-14T15:58:28.259Z"
   },
   {
    "duration": 7,
    "start_time": "2025-02-14T15:58:28.276Z"
   },
   {
    "duration": 16,
    "start_time": "2025-02-14T15:58:28.285Z"
   },
   {
    "duration": 5,
    "start_time": "2025-02-14T15:58:28.304Z"
   },
   {
    "duration": 25,
    "start_time": "2025-02-14T15:58:28.312Z"
   },
   {
    "duration": 96,
    "start_time": "2025-02-14T15:58:28.339Z"
   },
   {
    "duration": 11,
    "start_time": "2025-02-14T15:58:28.441Z"
   },
   {
    "duration": 13,
    "start_time": "2025-02-14T15:58:28.460Z"
   },
   {
    "duration": 59,
    "start_time": "2025-02-14T15:58:28.477Z"
   },
   {
    "duration": 12,
    "start_time": "2025-02-14T15:58:28.538Z"
   },
   {
    "duration": 14,
    "start_time": "2025-02-14T15:58:28.552Z"
   },
   {
    "duration": 67,
    "start_time": "2025-02-14T15:58:28.571Z"
   },
   {
    "duration": 100,
    "start_time": "2025-02-14T15:58:28.640Z"
   },
   {
    "duration": 142,
    "start_time": "2025-02-14T15:58:28.744Z"
   },
   {
    "duration": 101,
    "start_time": "2025-02-14T15:58:28.889Z"
   },
   {
    "duration": 4,
    "start_time": "2025-02-14T15:58:28.992Z"
   },
   {
    "duration": 34,
    "start_time": "2025-02-14T15:58:28.997Z"
   },
   {
    "duration": 25,
    "start_time": "2025-02-14T15:58:29.034Z"
   },
   {
    "duration": 170,
    "start_time": "2025-02-14T15:58:29.063Z"
   },
   {
    "duration": 234,
    "start_time": "2025-02-14T15:58:29.235Z"
   },
   {
    "duration": 5,
    "start_time": "2025-02-14T15:58:29.471Z"
   },
   {
    "duration": 7,
    "start_time": "2025-02-14T15:58:29.533Z"
   },
   {
    "duration": 11,
    "start_time": "2025-02-14T15:58:29.542Z"
   },
   {
    "duration": 77,
    "start_time": "2025-02-14T15:58:29.555Z"
   },
   {
    "duration": 118,
    "start_time": "2025-02-14T15:58:29.636Z"
   },
   {
    "duration": 216,
    "start_time": "2025-02-14T15:58:29.757Z"
   },
   {
    "duration": 4,
    "start_time": "2025-02-14T16:02:58.437Z"
   },
   {
    "duration": 22,
    "start_time": "2025-02-14T16:02:58.443Z"
   },
   {
    "duration": 8,
    "start_time": "2025-02-14T16:02:58.467Z"
   },
   {
    "duration": 7,
    "start_time": "2025-02-14T16:02:58.477Z"
   },
   {
    "duration": 10,
    "start_time": "2025-02-14T16:02:58.486Z"
   },
   {
    "duration": 4,
    "start_time": "2025-02-14T16:02:58.498Z"
   },
   {
    "duration": 33,
    "start_time": "2025-02-14T16:02:58.503Z"
   },
   {
    "duration": 61,
    "start_time": "2025-02-14T16:02:58.538Z"
   },
   {
    "duration": 4,
    "start_time": "2025-02-14T16:02:58.602Z"
   },
   {
    "duration": 32,
    "start_time": "2025-02-14T16:02:58.607Z"
   },
   {
    "duration": 42,
    "start_time": "2025-02-14T16:02:58.641Z"
   },
   {
    "duration": 13,
    "start_time": "2025-02-14T16:02:58.685Z"
   },
   {
    "duration": 40,
    "start_time": "2025-02-14T16:02:58.699Z"
   },
   {
    "duration": 15,
    "start_time": "2025-02-14T16:02:58.740Z"
   },
   {
    "duration": 87,
    "start_time": "2025-02-14T16:02:58.757Z"
   },
   {
    "duration": 186,
    "start_time": "2025-02-14T16:02:58.847Z"
   },
   {
    "duration": 87,
    "start_time": "2025-02-14T16:02:59.035Z"
   },
   {
    "duration": 8,
    "start_time": "2025-02-14T16:02:59.125Z"
   },
   {
    "duration": 7,
    "start_time": "2025-02-14T16:02:59.134Z"
   },
   {
    "duration": 14,
    "start_time": "2025-02-14T16:02:59.143Z"
   },
   {
    "duration": 87,
    "start_time": "2025-02-14T16:02:59.159Z"
   },
   {
    "duration": 185,
    "start_time": "2025-02-14T16:02:59.248Z"
   },
   {
    "duration": 5,
    "start_time": "2025-02-14T16:02:59.435Z"
   },
   {
    "duration": 7,
    "start_time": "2025-02-14T16:02:59.441Z"
   },
   {
    "duration": 12,
    "start_time": "2025-02-14T16:02:59.450Z"
   },
   {
    "duration": 74,
    "start_time": "2025-02-14T16:02:59.464Z"
   },
   {
    "duration": 122,
    "start_time": "2025-02-14T16:02:59.540Z"
   },
   {
    "duration": 175,
    "start_time": "2025-02-14T16:02:59.664Z"
   },
   {
    "duration": 199,
    "start_time": "2025-02-15T00:30:34.952Z"
   },
   {
    "duration": 2974,
    "start_time": "2025-02-15T00:30:40.841Z"
   },
   {
    "duration": 45,
    "start_time": "2025-02-15T00:30:43.823Z"
   },
   {
    "duration": 11,
    "start_time": "2025-02-15T00:30:43.872Z"
   },
   {
    "duration": 7,
    "start_time": "2025-02-15T00:30:43.885Z"
   },
   {
    "duration": 10,
    "start_time": "2025-02-15T00:30:43.894Z"
   },
   {
    "duration": 3,
    "start_time": "2025-02-15T00:30:43.906Z"
   },
   {
    "duration": 22,
    "start_time": "2025-02-15T00:30:43.911Z"
   },
   {
    "duration": 73,
    "start_time": "2025-02-15T00:30:43.934Z"
   },
   {
    "duration": 21,
    "start_time": "2025-02-15T00:30:44.009Z"
   },
   {
    "duration": 9,
    "start_time": "2025-02-15T00:30:44.035Z"
   },
   {
    "duration": 39,
    "start_time": "2025-02-15T00:30:44.046Z"
   },
   {
    "duration": 13,
    "start_time": "2025-02-15T00:30:44.086Z"
   },
   {
    "duration": 15,
    "start_time": "2025-02-15T00:30:44.124Z"
   },
   {
    "duration": 28,
    "start_time": "2025-02-15T00:30:44.142Z"
   },
   {
    "duration": 155,
    "start_time": "2025-02-15T00:30:44.172Z"
   },
   {
    "duration": 145,
    "start_time": "2025-02-15T00:30:44.331Z"
   },
   {
    "duration": 108,
    "start_time": "2025-02-15T00:30:44.478Z"
   },
   {
    "duration": 4,
    "start_time": "2025-02-15T00:30:44.588Z"
   },
   {
    "duration": 8,
    "start_time": "2025-02-15T00:30:44.593Z"
   },
   {
    "duration": 50,
    "start_time": "2025-02-15T00:30:44.602Z"
   },
   {
    "duration": 88,
    "start_time": "2025-02-15T00:30:44.658Z"
   },
   {
    "duration": 131,
    "start_time": "2025-02-15T00:30:44.748Z"
   },
   {
    "duration": 3,
    "start_time": "2025-02-15T00:30:44.881Z"
   },
   {
    "duration": 7,
    "start_time": "2025-02-15T00:30:44.886Z"
   },
   {
    "duration": 32,
    "start_time": "2025-02-15T00:30:44.894Z"
   },
   {
    "duration": 20,
    "start_time": "2025-02-15T00:30:44.928Z"
   },
   {
    "duration": 120,
    "start_time": "2025-02-15T00:30:44.949Z"
   },
   {
    "duration": 125,
    "start_time": "2025-02-15T00:30:45.072Z"
   }
  ],
  "kernelspec": {
   "display_name": "Python 3 (ipykernel)",
   "language": "python",
   "name": "python3"
  },
  "language_info": {
   "codemirror_mode": {
    "name": "ipython",
    "version": 3
   },
   "file_extension": ".py",
   "mimetype": "text/x-python",
   "name": "python",
   "nbconvert_exporter": "python",
   "pygments_lexer": "ipython3",
   "version": "3.9.19"
  },
  "toc": {
   "base_numbering": 1,
   "nav_menu": {},
   "number_sections": true,
   "sideBar": true,
   "skip_h1_title": true,
   "title_cell": "Table of Contents",
   "title_sidebar": "Contents",
   "toc_cell": false,
   "toc_position": {},
   "toc_section_display": true,
   "toc_window_display": false
  }
 },
 "nbformat": 4,
 "nbformat_minor": 2
}
